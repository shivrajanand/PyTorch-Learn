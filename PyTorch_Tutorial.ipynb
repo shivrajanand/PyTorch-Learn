{
  "nbformat": 4,
  "nbformat_minor": 0,
  "metadata": {
    "colab": {
      "provenance": [],
      "authorship_tag": "ABX9TyO+PpCRDXJF4b7hS4fxyWQi",
      "include_colab_link": true
    },
    "kernelspec": {
      "name": "python3",
      "display_name": "Python 3"
    },
    "language_info": {
      "name": "python"
    }
  },
  "cells": [
    {
      "cell_type": "markdown",
      "metadata": {
        "id": "view-in-github",
        "colab_type": "text"
      },
      "source": [
        "<a href=\"https://colab.research.google.com/github/shivrajanand/PyTorch-Learn/blob/main/PyTorch_Tutorial.ipynb\" target=\"_parent\"><img src=\"https://colab.research.google.com/assets/colab-badge.svg\" alt=\"Open In Colab\"/></a>"
      ]
    },
    {
      "cell_type": "code",
      "source": [
        "import torch\n",
        "import numpy as np"
      ],
      "metadata": {
        "id": "5_ighhuNUrHT"
      },
      "execution_count": 788,
      "outputs": []
    },
    {
      "cell_type": "markdown",
      "source": [
        "**Lecture 2:Tensors**"
      ],
      "metadata": {
        "id": "DWtY4auSWaoo"
      }
    },
    {
      "cell_type": "code",
      "source": [
        "my_list = [1, 2, 3, 4, 5] #Python list\n",
        "print(my_list)"
      ],
      "metadata": {
        "colab": {
          "base_uri": "https://localhost:8080/"
        },
        "id": "iZLdnI-jWjJp",
        "outputId": "c1a6e698-64f8-41f6-e354-e8778236f5be"
      },
      "execution_count": 789,
      "outputs": [
        {
          "output_type": "stream",
          "name": "stdout",
          "text": [
            "[1, 2, 3, 4, 5]\n"
          ]
        }
      ]
    },
    {
      "cell_type": "code",
      "source": [
        "np1 = np.random.rand(3,4) #Numpy array\n",
        "np1, np1.dtype"
      ],
      "metadata": {
        "colab": {
          "base_uri": "https://localhost:8080/"
        },
        "id": "WkM-mxSel1ET",
        "outputId": "0a213c45-1b34-4a5d-9ae4-59480096bf40"
      },
      "execution_count": 790,
      "outputs": [
        {
          "output_type": "execute_result",
          "data": {
            "text/plain": [
              "(array([[0.32989195, 0.03141719, 0.51236716, 0.99109199],\n",
              "        [0.01088412, 0.98091503, 0.85185865, 0.41772799],\n",
              "        [0.91104421, 0.76480975, 0.24606139, 0.90892715]]),\n",
              " dtype('float64'))"
            ]
          },
          "metadata": {},
          "execution_count": 790
        }
      ]
    },
    {
      "cell_type": "code",
      "source": [
        "tensor_2d = torch.randn(3, 4)\n",
        "tensor_2d, tensor_2d.dtype"
      ],
      "metadata": {
        "colab": {
          "base_uri": "https://localhost:8080/"
        },
        "id": "7Y2G1cSZmEp5",
        "outputId": "d51ba7d5-845b-4674-c4c2-c1510ff5d51f"
      },
      "execution_count": 791,
      "outputs": [
        {
          "output_type": "execute_result",
          "data": {
            "text/plain": [
              "(tensor([[ 0.1856, -0.7798, -1.4723, -1.8088],\n",
              "         [-0.1287,  0.9819, -1.0504, -2.1112],\n",
              "         [-1.6784, -1.0515,  0.1677, -1.3358]]),\n",
              " torch.float32)"
            ]
          },
          "metadata": {},
          "execution_count": 791
        }
      ]
    },
    {
      "cell_type": "code",
      "source": [
        "tensor_3d = torch.zeros(2,3,4)\n",
        "tensor_3d, tensor_3d.dtype"
      ],
      "metadata": {
        "colab": {
          "base_uri": "https://localhost:8080/"
        },
        "id": "VPOfB20rmf74",
        "outputId": "8a28ca12-889d-40f9-f8e0-c2e408311cac"
      },
      "execution_count": 792,
      "outputs": [
        {
          "output_type": "execute_result",
          "data": {
            "text/plain": [
              "(tensor([[[0., 0., 0., 0.],\n",
              "          [0., 0., 0., 0.],\n",
              "          [0., 0., 0., 0.]],\n",
              " \n",
              "         [[0., 0., 0., 0.],\n",
              "          [0., 0., 0., 0.],\n",
              "          [0., 0., 0., 0.]]]),\n",
              " torch.float32)"
            ]
          },
          "metadata": {},
          "execution_count": 792
        }
      ]
    },
    {
      "cell_type": "code",
      "source": [
        "my_t1 = torch.tensor(np1)\n",
        "my_t1, my_t1.dtype"
      ],
      "metadata": {
        "colab": {
          "base_uri": "https://localhost:8080/"
        },
        "id": "wGfIqfBWmlci",
        "outputId": "dc22f0ba-1674-4523-fe2a-8892f9ad8c78"
      },
      "execution_count": 793,
      "outputs": [
        {
          "output_type": "execute_result",
          "data": {
            "text/plain": [
              "(tensor([[0.3299, 0.0314, 0.5124, 0.9911],\n",
              "         [0.0109, 0.9809, 0.8519, 0.4177],\n",
              "         [0.9110, 0.7648, 0.2461, 0.9089]], dtype=torch.float64),\n",
              " torch.float64)"
            ]
          },
          "metadata": {},
          "execution_count": 793
        }
      ]
    },
    {
      "cell_type": "markdown",
      "source": [
        "**Lecture 3: Tensor Operations**"
      ],
      "metadata": {
        "id": "pRjRIiOdniU3"
      }
    },
    {
      "cell_type": "code",
      "source": [
        "myten1 = torch.arange(10)\n",
        "myten1"
      ],
      "metadata": {
        "colab": {
          "base_uri": "https://localhost:8080/"
        },
        "id": "m1TzlWC6mwqB",
        "outputId": "a11a2692-668d-4167-9a5f-b8655c05eef8"
      },
      "execution_count": 794,
      "outputs": [
        {
          "output_type": "execute_result",
          "data": {
            "text/plain": [
              "tensor([0, 1, 2, 3, 4, 5, 6, 7, 8, 9])"
            ]
          },
          "metadata": {},
          "execution_count": 794
        }
      ]
    },
    {
      "cell_type": "code",
      "source": [
        "#Reshape and View\n",
        "myten1 = myten1.reshape(2,5)\n",
        "myten1"
      ],
      "metadata": {
        "colab": {
          "base_uri": "https://localhost:8080/"
        },
        "id": "YlkA8AMXntuf",
        "outputId": "0dc841f5-7b8b-4003-a306-5422964c725a"
      },
      "execution_count": 795,
      "outputs": [
        {
          "output_type": "execute_result",
          "data": {
            "text/plain": [
              "tensor([[0, 1, 2, 3, 4],\n",
              "        [5, 6, 7, 8, 9]])"
            ]
          },
          "metadata": {},
          "execution_count": 795
        }
      ]
    },
    {
      "cell_type": "code",
      "source": [
        "#How to reshape if we dont know number of items\n",
        "myten2 = torch.arange(10)\n",
        "myten2"
      ],
      "metadata": {
        "colab": {
          "base_uri": "https://localhost:8080/"
        },
        "id": "n8U7AYXbn5Qu",
        "outputId": "4f1665a8-cfb0-4710-cef3-6aa12402e30e"
      },
      "execution_count": 796,
      "outputs": [
        {
          "output_type": "execute_result",
          "data": {
            "text/plain": [
              "tensor([0, 1, 2, 3, 4, 5, 6, 7, 8, 9])"
            ]
          },
          "metadata": {},
          "execution_count": 796
        }
      ]
    },
    {
      "cell_type": "code",
      "source": [
        "myten2 = myten2.reshape(2,-1)\n",
        "myten2"
      ],
      "metadata": {
        "colab": {
          "base_uri": "https://localhost:8080/"
        },
        "id": "bLFjXhYsoIUu",
        "outputId": "5ef6868c-1280-47e0-a10e-5f6fc55ac8cf"
      },
      "execution_count": 797,
      "outputs": [
        {
          "output_type": "execute_result",
          "data": {
            "text/plain": [
              "tensor([[0, 1, 2, 3, 4],\n",
              "        [5, 6, 7, 8, 9]])"
            ]
          },
          "metadata": {},
          "execution_count": 797
        }
      ]
    },
    {
      "cell_type": "code",
      "source": [
        "myten3 = torch.arange(10)\n",
        "myten3"
      ],
      "metadata": {
        "colab": {
          "base_uri": "https://localhost:8080/"
        },
        "id": "CxsZsmvpouJn",
        "outputId": "045fb0da-d98f-4fb7-b537-9965b8e5e400"
      },
      "execution_count": 798,
      "outputs": [
        {
          "output_type": "execute_result",
          "data": {
            "text/plain": [
              "tensor([0, 1, 2, 3, 4, 5, 6, 7, 8, 9])"
            ]
          },
          "metadata": {},
          "execution_count": 798
        }
      ]
    },
    {
      "cell_type": "code",
      "source": [
        "myten4 = myten3.view(2,5)\n",
        "myten4"
      ],
      "metadata": {
        "colab": {
          "base_uri": "https://localhost:8080/"
        },
        "id": "spHgx_oLpVz9",
        "outputId": "1d036106-7b07-44b0-834d-0f6d6fad4892"
      },
      "execution_count": 799,
      "outputs": [
        {
          "output_type": "execute_result",
          "data": {
            "text/plain": [
              "tensor([[0, 1, 2, 3, 4],\n",
              "        [5, 6, 7, 8, 9]])"
            ]
          },
          "metadata": {},
          "execution_count": 799
        }
      ]
    },
    {
      "cell_type": "markdown",
      "source": [
        "**Math Operations on Tensors**"
      ],
      "metadata": {
        "id": "3Hb9BTWj69ua"
      }
    },
    {
      "cell_type": "code",
      "source": [
        "t1 = torch.tensor([1,2,3,4])\n",
        "t2 = torch.tensor([5,6,7,8])\n",
        "t1, t2"
      ],
      "metadata": {
        "colab": {
          "base_uri": "https://localhost:8080/"
        },
        "id": "ccJ0khmrpZzO",
        "outputId": "c6ddfe5b-fd39-4150-ddff-4e236372ecef"
      },
      "execution_count": 800,
      "outputs": [
        {
          "output_type": "execute_result",
          "data": {
            "text/plain": [
              "(tensor([1, 2, 3, 4]), tensor([5, 6, 7, 8]))"
            ]
          },
          "metadata": {},
          "execution_count": 800
        }
      ]
    },
    {
      "cell_type": "code",
      "source": [
        "t1+t2 #Addition"
      ],
      "metadata": {
        "colab": {
          "base_uri": "https://localhost:8080/"
        },
        "id": "878ZeIk77Gsz",
        "outputId": "6ce06333-3ec0-4ba3-a3aa-462c527f02b1"
      },
      "execution_count": 801,
      "outputs": [
        {
          "output_type": "execute_result",
          "data": {
            "text/plain": [
              "tensor([ 6,  8, 10, 12])"
            ]
          },
          "metadata": {},
          "execution_count": 801
        }
      ]
    },
    {
      "cell_type": "code",
      "source": [
        "torch.add(t1, t2)"
      ],
      "metadata": {
        "colab": {
          "base_uri": "https://localhost:8080/"
        },
        "id": "WM_gING47IOM",
        "outputId": "e27a006a-ca98-4d3b-f735-0d53e7dd8295"
      },
      "execution_count": 802,
      "outputs": [
        {
          "output_type": "execute_result",
          "data": {
            "text/plain": [
              "tensor([ 6,  8, 10, 12])"
            ]
          },
          "metadata": {},
          "execution_count": 802
        }
      ]
    },
    {
      "cell_type": "code",
      "source": [
        "t1-t2 #subtraction"
      ],
      "metadata": {
        "colab": {
          "base_uri": "https://localhost:8080/"
        },
        "id": "A398Qalu7PMD",
        "outputId": "d0ba7681-7ee0-437b-dc39-606b32667b41"
      },
      "execution_count": 803,
      "outputs": [
        {
          "output_type": "execute_result",
          "data": {
            "text/plain": [
              "tensor([-4, -4, -4, -4])"
            ]
          },
          "metadata": {},
          "execution_count": 803
        }
      ]
    },
    {
      "cell_type": "code",
      "source": [
        "torch.sub(t1, t2)"
      ],
      "metadata": {
        "colab": {
          "base_uri": "https://localhost:8080/"
        },
        "id": "irs5GosKABv3",
        "outputId": "c0711717-65e2-4770-f33b-77b7eb91db1c"
      },
      "execution_count": 804,
      "outputs": [
        {
          "output_type": "execute_result",
          "data": {
            "text/plain": [
              "tensor([-4, -4, -4, -4])"
            ]
          },
          "metadata": {},
          "execution_count": 804
        }
      ]
    },
    {
      "cell_type": "code",
      "source": [
        "t1*t2 #multiplication"
      ],
      "metadata": {
        "colab": {
          "base_uri": "https://localhost:8080/"
        },
        "id": "HxiB_cV8AHCG",
        "outputId": "dc3058fc-645e-4c4b-de35-671c4404214e"
      },
      "execution_count": 805,
      "outputs": [
        {
          "output_type": "execute_result",
          "data": {
            "text/plain": [
              "tensor([ 5, 12, 21, 32])"
            ]
          },
          "metadata": {},
          "execution_count": 805
        }
      ]
    },
    {
      "cell_type": "code",
      "source": [
        "torch.mul(t1, t2)"
      ],
      "metadata": {
        "colab": {
          "base_uri": "https://localhost:8080/"
        },
        "id": "3_LRL5CcALB3",
        "outputId": "b840e99e-2923-4127-8dd5-326d807c7f56"
      },
      "execution_count": 806,
      "outputs": [
        {
          "output_type": "execute_result",
          "data": {
            "text/plain": [
              "tensor([ 5, 12, 21, 32])"
            ]
          },
          "metadata": {},
          "execution_count": 806
        }
      ]
    },
    {
      "cell_type": "code",
      "source": [
        "t1@t2 #multiply and sum"
      ],
      "metadata": {
        "colab": {
          "base_uri": "https://localhost:8080/"
        },
        "id": "mTlK_NqZAOkX",
        "outputId": "58a5f9c0-9307-42d6-fb5d-6039149ce137"
      },
      "execution_count": 807,
      "outputs": [
        {
          "output_type": "execute_result",
          "data": {
            "text/plain": [
              "tensor(70)"
            ]
          },
          "metadata": {},
          "execution_count": 807
        }
      ]
    },
    {
      "cell_type": "code",
      "source": [
        "t1/t2 #division"
      ],
      "metadata": {
        "colab": {
          "base_uri": "https://localhost:8080/"
        },
        "id": "4YJtRJkjAQon",
        "outputId": "ebb0f344-b4bd-4eba-d4ce-c23d1c493cc8"
      },
      "execution_count": 808,
      "outputs": [
        {
          "output_type": "execute_result",
          "data": {
            "text/plain": [
              "tensor([0.2000, 0.3333, 0.4286, 0.5000])"
            ]
          },
          "metadata": {},
          "execution_count": 808
        }
      ]
    },
    {
      "cell_type": "code",
      "source": [
        "t2/t1"
      ],
      "metadata": {
        "colab": {
          "base_uri": "https://localhost:8080/"
        },
        "id": "ch7PBQRVAXw1",
        "outputId": "51dce3db-9706-4258-db85-0fc79dc2d6c6"
      },
      "execution_count": 809,
      "outputs": [
        {
          "output_type": "execute_result",
          "data": {
            "text/plain": [
              "tensor([5.0000, 3.0000, 2.3333, 2.0000])"
            ]
          },
          "metadata": {},
          "execution_count": 809
        }
      ]
    },
    {
      "cell_type": "code",
      "source": [
        "torch.div(t2, t1)"
      ],
      "metadata": {
        "colab": {
          "base_uri": "https://localhost:8080/"
        },
        "id": "4NsMgoDOAZB1",
        "outputId": "b4e9f1a5-25fe-47be-c0d4-d3ac61f77925"
      },
      "execution_count": 810,
      "outputs": [
        {
          "output_type": "execute_result",
          "data": {
            "text/plain": [
              "tensor([5.0000, 3.0000, 2.3333, 2.0000])"
            ]
          },
          "metadata": {},
          "execution_count": 810
        }
      ]
    },
    {
      "cell_type": "code",
      "source": [
        "t1%t2 #Remainder"
      ],
      "metadata": {
        "colab": {
          "base_uri": "https://localhost:8080/"
        },
        "id": "2AGG0CVjAc0-",
        "outputId": "57c489e2-fcf4-4338-a2b6-3cfe13243add"
      },
      "execution_count": 811,
      "outputs": [
        {
          "output_type": "execute_result",
          "data": {
            "text/plain": [
              "tensor([1, 2, 3, 4])"
            ]
          },
          "metadata": {},
          "execution_count": 811
        }
      ]
    },
    {
      "cell_type": "code",
      "source": [
        "t2%t1"
      ],
      "metadata": {
        "colab": {
          "base_uri": "https://localhost:8080/"
        },
        "id": "fzmexfXCAfHu",
        "outputId": "72f997ec-82bd-41cc-c129-672ab4f2bcb6"
      },
      "execution_count": 812,
      "outputs": [
        {
          "output_type": "execute_result",
          "data": {
            "text/plain": [
              "tensor([0, 0, 1, 0])"
            ]
          },
          "metadata": {},
          "execution_count": 812
        }
      ]
    },
    {
      "cell_type": "code",
      "source": [
        "t1, t2, t2**t1 #Exponentiation"
      ],
      "metadata": {
        "colab": {
          "base_uri": "https://localhost:8080/"
        },
        "id": "1y96B1ZdAgeO",
        "outputId": "f444f4d6-8b42-474b-e2ca-0d2cf107d0fd"
      },
      "execution_count": 813,
      "outputs": [
        {
          "output_type": "execute_result",
          "data": {
            "text/plain": [
              "(tensor([1, 2, 3, 4]), tensor([5, 6, 7, 8]), tensor([   5,   36,  343, 4096]))"
            ]
          },
          "metadata": {},
          "execution_count": 813
        }
      ]
    },
    {
      "cell_type": "code",
      "source": [
        "torch.pow(t2, t1)"
      ],
      "metadata": {
        "colab": {
          "base_uri": "https://localhost:8080/"
        },
        "id": "hfernVjdAxac",
        "outputId": "4bbcbe60-bf13-415b-b983-ce346fc03a2d"
      },
      "execution_count": 814,
      "outputs": [
        {
          "output_type": "execute_result",
          "data": {
            "text/plain": [
              "tensor([   5,   36,  343, 4096])"
            ]
          },
          "metadata": {},
          "execution_count": 814
        }
      ]
    },
    {
      "cell_type": "markdown",
      "source": [
        "***L5: Create a basic neural Network: Iris  Dataset***"
      ],
      "metadata": {
        "id": "5vtPUhJgBW70"
      }
    },
    {
      "cell_type": "code",
      "source": [
        "import torch.nn as nn\n",
        "import torch.nn.functional as F"
      ],
      "metadata": {
        "id": "-4JkOEjHCEbt"
      },
      "execution_count": 815,
      "outputs": []
    },
    {
      "cell_type": "code",
      "source": [
        "#Create a model class that inherits nn.Module\n",
        "\n",
        "class Model(nn.Module):\n",
        "  #I/P (4 features of flower) -> Hidden Layer 1 -> Hidden Layer 2 -> O/P(3 flower classes)\n",
        "\n",
        "  def __init__(self, in_features=4, h1=8, h2=9, out_features = 3):\n",
        "\n",
        "    super().__init__() #Instantiate nn.Module\n",
        "\n",
        "    #fc: fully connected layer\n",
        "    #out: output layer\n",
        "    #All layers are set as linear functions\n",
        "    self.fc1 = nn.Linear(in_features, h1)\n",
        "    self.fc2 = nn.Linear(h1, h2)\n",
        "    self.out = nn.Linear(h2, out_features)\n",
        "\n",
        "  #Function to move forward in layers\n",
        "  def forward(self, x):\n",
        "    #RELU: Rectified Linear Unit function\n",
        "    #if output of function < 0 then result is 0 otheriwse the result\n",
        "    #For any function g(x)=> relu[g(x)] = 0 if {g(x) < 0} else g(x)\n",
        "    x = F.relu(self.fc1(x))  #Functioning i/p => First Layer{ = x}\n",
        "    x = F.relu(self.fc2(x))  #Functioning First Layer => Second Layer{ = x}\n",
        "    x = F.relu(self.out(x))  #Functioning Second Layer => Output{ = x}\n",
        "\n",
        "    return x"
      ],
      "metadata": {
        "id": "vMJ_tT7vCJ9t"
      },
      "execution_count": 816,
      "outputs": []
    },
    {
      "cell_type": "code",
      "source": [
        "#Pick a seed number for randomization\n",
        "torch.manual_seed(41)\n",
        "#Create an instance of model\n",
        "model = Model()"
      ],
      "metadata": {
        "id": "lECer9c0Dtl7"
      },
      "execution_count": 817,
      "outputs": []
    },
    {
      "cell_type": "markdown",
      "source": [
        "**L6: Load Data & Training**"
      ],
      "metadata": {
        "id": "CdWPPAQZtTUA"
      }
    },
    {
      "cell_type": "code",
      "source": [
        "import matplotlib.pyplot as plt\n",
        "%matplotlib inline\n",
        "import pandas as pd"
      ],
      "metadata": {
        "id": "Psjk8REhHWtv"
      },
      "execution_count": 818,
      "outputs": []
    },
    {
      "cell_type": "code",
      "source": [
        "url = \"https://gist.githubusercontent.com/curran/a08a1080b88344b0c8a7/raw/0e7a9b0a5d22642a06d3d5b9bcbad9890c8ee534/iris.csv\"\n",
        "\n",
        "df = pd.read_csv(url)\n",
        "df.sample(5)"
      ],
      "metadata": {
        "colab": {
          "base_uri": "https://localhost:8080/",
          "height": 206
        },
        "id": "cn9_sI17teUB",
        "outputId": "bf161933-28bd-45f5-c128-289b0f64ceec"
      },
      "execution_count": 819,
      "outputs": [
        {
          "output_type": "execute_result",
          "data": {
            "text/plain": [
              "    sepal_length  sepal_width  petal_length  petal_width     species\n",
              "70           5.9          3.2           4.8          1.8  versicolor\n",
              "37           4.9          3.1           1.5          0.1      setosa\n",
              "15           5.7          4.4           1.5          0.4      setosa\n",
              "98           5.1          2.5           3.0          1.1  versicolor\n",
              "95           5.7          3.0           4.2          1.2  versicolor"
            ],
            "text/html": [
              "\n",
              "  <div id=\"df-74481678-748b-49a5-aa3f-abd77728f824\" class=\"colab-df-container\">\n",
              "    <div>\n",
              "<style scoped>\n",
              "    .dataframe tbody tr th:only-of-type {\n",
              "        vertical-align: middle;\n",
              "    }\n",
              "\n",
              "    .dataframe tbody tr th {\n",
              "        vertical-align: top;\n",
              "    }\n",
              "\n",
              "    .dataframe thead th {\n",
              "        text-align: right;\n",
              "    }\n",
              "</style>\n",
              "<table border=\"1\" class=\"dataframe\">\n",
              "  <thead>\n",
              "    <tr style=\"text-align: right;\">\n",
              "      <th></th>\n",
              "      <th>sepal_length</th>\n",
              "      <th>sepal_width</th>\n",
              "      <th>petal_length</th>\n",
              "      <th>petal_width</th>\n",
              "      <th>species</th>\n",
              "    </tr>\n",
              "  </thead>\n",
              "  <tbody>\n",
              "    <tr>\n",
              "      <th>70</th>\n",
              "      <td>5.9</td>\n",
              "      <td>3.2</td>\n",
              "      <td>4.8</td>\n",
              "      <td>1.8</td>\n",
              "      <td>versicolor</td>\n",
              "    </tr>\n",
              "    <tr>\n",
              "      <th>37</th>\n",
              "      <td>4.9</td>\n",
              "      <td>3.1</td>\n",
              "      <td>1.5</td>\n",
              "      <td>0.1</td>\n",
              "      <td>setosa</td>\n",
              "    </tr>\n",
              "    <tr>\n",
              "      <th>15</th>\n",
              "      <td>5.7</td>\n",
              "      <td>4.4</td>\n",
              "      <td>1.5</td>\n",
              "      <td>0.4</td>\n",
              "      <td>setosa</td>\n",
              "    </tr>\n",
              "    <tr>\n",
              "      <th>98</th>\n",
              "      <td>5.1</td>\n",
              "      <td>2.5</td>\n",
              "      <td>3.0</td>\n",
              "      <td>1.1</td>\n",
              "      <td>versicolor</td>\n",
              "    </tr>\n",
              "    <tr>\n",
              "      <th>95</th>\n",
              "      <td>5.7</td>\n",
              "      <td>3.0</td>\n",
              "      <td>4.2</td>\n",
              "      <td>1.2</td>\n",
              "      <td>versicolor</td>\n",
              "    </tr>\n",
              "  </tbody>\n",
              "</table>\n",
              "</div>\n",
              "    <div class=\"colab-df-buttons\">\n",
              "\n",
              "  <div class=\"colab-df-container\">\n",
              "    <button class=\"colab-df-convert\" onclick=\"convertToInteractive('df-74481678-748b-49a5-aa3f-abd77728f824')\"\n",
              "            title=\"Convert this dataframe to an interactive table.\"\n",
              "            style=\"display:none;\">\n",
              "\n",
              "  <svg xmlns=\"http://www.w3.org/2000/svg\" height=\"24px\" viewBox=\"0 -960 960 960\">\n",
              "    <path d=\"M120-120v-720h720v720H120Zm60-500h600v-160H180v160Zm220 220h160v-160H400v160Zm0 220h160v-160H400v160ZM180-400h160v-160H180v160Zm440 0h160v-160H620v160ZM180-180h160v-160H180v160Zm440 0h160v-160H620v160Z\"/>\n",
              "  </svg>\n",
              "    </button>\n",
              "\n",
              "  <style>\n",
              "    .colab-df-container {\n",
              "      display:flex;\n",
              "      gap: 12px;\n",
              "    }\n",
              "\n",
              "    .colab-df-convert {\n",
              "      background-color: #E8F0FE;\n",
              "      border: none;\n",
              "      border-radius: 50%;\n",
              "      cursor: pointer;\n",
              "      display: none;\n",
              "      fill: #1967D2;\n",
              "      height: 32px;\n",
              "      padding: 0 0 0 0;\n",
              "      width: 32px;\n",
              "    }\n",
              "\n",
              "    .colab-df-convert:hover {\n",
              "      background-color: #E2EBFA;\n",
              "      box-shadow: 0px 1px 2px rgba(60, 64, 67, 0.3), 0px 1px 3px 1px rgba(60, 64, 67, 0.15);\n",
              "      fill: #174EA6;\n",
              "    }\n",
              "\n",
              "    .colab-df-buttons div {\n",
              "      margin-bottom: 4px;\n",
              "    }\n",
              "\n",
              "    [theme=dark] .colab-df-convert {\n",
              "      background-color: #3B4455;\n",
              "      fill: #D2E3FC;\n",
              "    }\n",
              "\n",
              "    [theme=dark] .colab-df-convert:hover {\n",
              "      background-color: #434B5C;\n",
              "      box-shadow: 0px 1px 3px 1px rgba(0, 0, 0, 0.15);\n",
              "      filter: drop-shadow(0px 1px 2px rgba(0, 0, 0, 0.3));\n",
              "      fill: #FFFFFF;\n",
              "    }\n",
              "  </style>\n",
              "\n",
              "    <script>\n",
              "      const buttonEl =\n",
              "        document.querySelector('#df-74481678-748b-49a5-aa3f-abd77728f824 button.colab-df-convert');\n",
              "      buttonEl.style.display =\n",
              "        google.colab.kernel.accessAllowed ? 'block' : 'none';\n",
              "\n",
              "      async function convertToInteractive(key) {\n",
              "        const element = document.querySelector('#df-74481678-748b-49a5-aa3f-abd77728f824');\n",
              "        const dataTable =\n",
              "          await google.colab.kernel.invokeFunction('convertToInteractive',\n",
              "                                                    [key], {});\n",
              "        if (!dataTable) return;\n",
              "\n",
              "        const docLinkHtml = 'Like what you see? Visit the ' +\n",
              "          '<a target=\"_blank\" href=https://colab.research.google.com/notebooks/data_table.ipynb>data table notebook</a>'\n",
              "          + ' to learn more about interactive tables.';\n",
              "        element.innerHTML = '';\n",
              "        dataTable['output_type'] = 'display_data';\n",
              "        await google.colab.output.renderOutput(dataTable, element);\n",
              "        const docLink = document.createElement('div');\n",
              "        docLink.innerHTML = docLinkHtml;\n",
              "        element.appendChild(docLink);\n",
              "      }\n",
              "    </script>\n",
              "  </div>\n",
              "\n",
              "\n",
              "<div id=\"df-d54e5610-e0d3-440d-9077-e18108c934f3\">\n",
              "  <button class=\"colab-df-quickchart\" onclick=\"quickchart('df-d54e5610-e0d3-440d-9077-e18108c934f3')\"\n",
              "            title=\"Suggest charts\"\n",
              "            style=\"display:none;\">\n",
              "\n",
              "<svg xmlns=\"http://www.w3.org/2000/svg\" height=\"24px\"viewBox=\"0 0 24 24\"\n",
              "     width=\"24px\">\n",
              "    <g>\n",
              "        <path d=\"M19 3H5c-1.1 0-2 .9-2 2v14c0 1.1.9 2 2 2h14c1.1 0 2-.9 2-2V5c0-1.1-.9-2-2-2zM9 17H7v-7h2v7zm4 0h-2V7h2v10zm4 0h-2v-4h2v4z\"/>\n",
              "    </g>\n",
              "</svg>\n",
              "  </button>\n",
              "\n",
              "<style>\n",
              "  .colab-df-quickchart {\n",
              "      --bg-color: #E8F0FE;\n",
              "      --fill-color: #1967D2;\n",
              "      --hover-bg-color: #E2EBFA;\n",
              "      --hover-fill-color: #174EA6;\n",
              "      --disabled-fill-color: #AAA;\n",
              "      --disabled-bg-color: #DDD;\n",
              "  }\n",
              "\n",
              "  [theme=dark] .colab-df-quickchart {\n",
              "      --bg-color: #3B4455;\n",
              "      --fill-color: #D2E3FC;\n",
              "      --hover-bg-color: #434B5C;\n",
              "      --hover-fill-color: #FFFFFF;\n",
              "      --disabled-bg-color: #3B4455;\n",
              "      --disabled-fill-color: #666;\n",
              "  }\n",
              "\n",
              "  .colab-df-quickchart {\n",
              "    background-color: var(--bg-color);\n",
              "    border: none;\n",
              "    border-radius: 50%;\n",
              "    cursor: pointer;\n",
              "    display: none;\n",
              "    fill: var(--fill-color);\n",
              "    height: 32px;\n",
              "    padding: 0;\n",
              "    width: 32px;\n",
              "  }\n",
              "\n",
              "  .colab-df-quickchart:hover {\n",
              "    background-color: var(--hover-bg-color);\n",
              "    box-shadow: 0 1px 2px rgba(60, 64, 67, 0.3), 0 1px 3px 1px rgba(60, 64, 67, 0.15);\n",
              "    fill: var(--button-hover-fill-color);\n",
              "  }\n",
              "\n",
              "  .colab-df-quickchart-complete:disabled,\n",
              "  .colab-df-quickchart-complete:disabled:hover {\n",
              "    background-color: var(--disabled-bg-color);\n",
              "    fill: var(--disabled-fill-color);\n",
              "    box-shadow: none;\n",
              "  }\n",
              "\n",
              "  .colab-df-spinner {\n",
              "    border: 2px solid var(--fill-color);\n",
              "    border-color: transparent;\n",
              "    border-bottom-color: var(--fill-color);\n",
              "    animation:\n",
              "      spin 1s steps(1) infinite;\n",
              "  }\n",
              "\n",
              "  @keyframes spin {\n",
              "    0% {\n",
              "      border-color: transparent;\n",
              "      border-bottom-color: var(--fill-color);\n",
              "      border-left-color: var(--fill-color);\n",
              "    }\n",
              "    20% {\n",
              "      border-color: transparent;\n",
              "      border-left-color: var(--fill-color);\n",
              "      border-top-color: var(--fill-color);\n",
              "    }\n",
              "    30% {\n",
              "      border-color: transparent;\n",
              "      border-left-color: var(--fill-color);\n",
              "      border-top-color: var(--fill-color);\n",
              "      border-right-color: var(--fill-color);\n",
              "    }\n",
              "    40% {\n",
              "      border-color: transparent;\n",
              "      border-right-color: var(--fill-color);\n",
              "      border-top-color: var(--fill-color);\n",
              "    }\n",
              "    60% {\n",
              "      border-color: transparent;\n",
              "      border-right-color: var(--fill-color);\n",
              "    }\n",
              "    80% {\n",
              "      border-color: transparent;\n",
              "      border-right-color: var(--fill-color);\n",
              "      border-bottom-color: var(--fill-color);\n",
              "    }\n",
              "    90% {\n",
              "      border-color: transparent;\n",
              "      border-bottom-color: var(--fill-color);\n",
              "    }\n",
              "  }\n",
              "</style>\n",
              "\n",
              "  <script>\n",
              "    async function quickchart(key) {\n",
              "      const quickchartButtonEl =\n",
              "        document.querySelector('#' + key + ' button');\n",
              "      quickchartButtonEl.disabled = true;  // To prevent multiple clicks.\n",
              "      quickchartButtonEl.classList.add('colab-df-spinner');\n",
              "      try {\n",
              "        const charts = await google.colab.kernel.invokeFunction(\n",
              "            'suggestCharts', [key], {});\n",
              "      } catch (error) {\n",
              "        console.error('Error during call to suggestCharts:', error);\n",
              "      }\n",
              "      quickchartButtonEl.classList.remove('colab-df-spinner');\n",
              "      quickchartButtonEl.classList.add('colab-df-quickchart-complete');\n",
              "    }\n",
              "    (() => {\n",
              "      let quickchartButtonEl =\n",
              "        document.querySelector('#df-d54e5610-e0d3-440d-9077-e18108c934f3 button');\n",
              "      quickchartButtonEl.style.display =\n",
              "        google.colab.kernel.accessAllowed ? 'block' : 'none';\n",
              "    })();\n",
              "  </script>\n",
              "</div>\n",
              "\n",
              "    </div>\n",
              "  </div>\n"
            ],
            "application/vnd.google.colaboratory.intrinsic+json": {
              "type": "dataframe",
              "summary": "{\n  \"name\": \"df\",\n  \"rows\": 5,\n  \"fields\": [\n    {\n      \"column\": \"sepal_length\",\n      \"properties\": {\n        \"dtype\": \"number\",\n        \"std\": 0.4335896677735761,\n        \"min\": 4.9,\n        \"max\": 5.9,\n        \"num_unique_values\": 4,\n        \"samples\": [\n          4.9,\n          5.1,\n          5.9\n        ],\n        \"semantic_type\": \"\",\n        \"description\": \"\"\n      }\n    },\n    {\n      \"column\": \"sepal_width\",\n      \"properties\": {\n        \"dtype\": \"number\",\n        \"std\": 0.7021395872616785,\n        \"min\": 2.5,\n        \"max\": 4.4,\n        \"num_unique_values\": 5,\n        \"samples\": [\n          3.1,\n          3.0,\n          4.4\n        ],\n        \"semantic_type\": \"\",\n        \"description\": \"\"\n      }\n    },\n    {\n      \"column\": \"petal_length\",\n      \"properties\": {\n        \"dtype\": \"number\",\n        \"std\": 1.5149257407543117,\n        \"min\": 1.5,\n        \"max\": 4.8,\n        \"num_unique_values\": 4,\n        \"samples\": [\n          1.5,\n          4.2,\n          4.8\n        ],\n        \"semantic_type\": \"\",\n        \"description\": \"\"\n      }\n    },\n    {\n      \"column\": \"petal_width\",\n      \"properties\": {\n        \"dtype\": \"number\",\n        \"std\": 0.6760177512462229,\n        \"min\": 0.1,\n        \"max\": 1.8,\n        \"num_unique_values\": 5,\n        \"samples\": [\n          0.1,\n          1.2,\n          0.4\n        ],\n        \"semantic_type\": \"\",\n        \"description\": \"\"\n      }\n    },\n    {\n      \"column\": \"species\",\n      \"properties\": {\n        \"dtype\": \"category\",\n        \"num_unique_values\": 2,\n        \"samples\": [\n          \"setosa\",\n          \"versicolor\"\n        ],\n        \"semantic_type\": \"\",\n        \"description\": \"\"\n      }\n    }\n  ]\n}"
            }
          },
          "metadata": {},
          "execution_count": 819
        }
      ]
    },
    {
      "cell_type": "code",
      "source": [
        "df['species'].unique()"
      ],
      "metadata": {
        "colab": {
          "base_uri": "https://localhost:8080/"
        },
        "id": "UC6yWpObtmo4",
        "outputId": "c42719d5-651e-4ec2-cf91-196a3947964a"
      },
      "execution_count": 820,
      "outputs": [
        {
          "output_type": "execute_result",
          "data": {
            "text/plain": [
              "array(['setosa', 'versicolor', 'virginica'], dtype=object)"
            ]
          },
          "metadata": {},
          "execution_count": 820
        }
      ]
    },
    {
      "cell_type": "code",
      "source": [
        "df['species']= df['species'].map({'setosa':0, 'versicolor':1, 'virginica':2})\n",
        "\n",
        "df['species'].unique()"
      ],
      "metadata": {
        "colab": {
          "base_uri": "https://localhost:8080/"
        },
        "id": "n3rnOIPfuUgg",
        "outputId": "d4494e3a-e696-4263-b6e3-0771c23f019a"
      },
      "execution_count": 821,
      "outputs": [
        {
          "output_type": "execute_result",
          "data": {
            "text/plain": [
              "array([0, 1, 2])"
            ]
          },
          "metadata": {},
          "execution_count": 821
        }
      ]
    },
    {
      "cell_type": "code",
      "source": [
        "from os import X_OK\n",
        "#train test split\n",
        "\n",
        "X = df.drop('species', axis=1).values\n",
        "Y = df['species'].values"
      ],
      "metadata": {
        "id": "pQVzLLi2ujZ4"
      },
      "execution_count": 822,
      "outputs": []
    },
    {
      "cell_type": "code",
      "source": [
        "from sklearn.model_selection import train_test_split"
      ],
      "metadata": {
        "id": "d4hSR01XvY0c"
      },
      "execution_count": 823,
      "outputs": []
    },
    {
      "cell_type": "code",
      "source": [
        "X_train, X_test, Y_train, Y_test = train_test_split(X, Y, test_size = 0.2, random_state = 41)"
      ],
      "metadata": {
        "id": "pbF96dmWvtOf"
      },
      "execution_count": 824,
      "outputs": []
    },
    {
      "cell_type": "code",
      "source": [
        "X_train = torch.tensor(X_train, dtype = torch.float)\n",
        "X_test = torch.tensor(X_test, dtype = torch.float)\n",
        "Y_train = torch.tensor(Y_train, dtype = torch.long)\n",
        "Y_test = torch.tensor(Y_test, dtype = torch.long)"
      ],
      "metadata": {
        "id": "fSb4sFcAv7nG"
      },
      "execution_count": 825,
      "outputs": []
    },
    {
      "cell_type": "code",
      "source": [
        "#Set the criteria of model to measure the error\n",
        "criterion = nn.CrossEntropyLoss()\n",
        "\n",
        "#Choose an optimizer: Adam Optimizer\n",
        "#lr = Learning Rate\n",
        "#If error donot goes down after a few iterations/epochs lr has to be lowered\n",
        "\n",
        "optimizer = torch.optim.Adam(model.parameters(), lr = 0.01)\n"
      ],
      "metadata": {
        "id": "KZFJMby1wpXN"
      },
      "execution_count": 826,
      "outputs": []
    },
    {
      "cell_type": "code",
      "source": [
        "print(model.parameters)"
      ],
      "metadata": {
        "colab": {
          "base_uri": "https://localhost:8080/"
        },
        "id": "SbymtFY3x2IN",
        "outputId": "365b6da4-4540-4149-c94f-183d0925b620"
      },
      "execution_count": 827,
      "outputs": [
        {
          "output_type": "stream",
          "name": "stdout",
          "text": [
            "<bound method Module.parameters of Model(\n",
            "  (fc1): Linear(in_features=4, out_features=8, bias=True)\n",
            "  (fc2): Linear(in_features=8, out_features=9, bias=True)\n",
            "  (out): Linear(in_features=9, out_features=3, bias=True)\n",
            ")>\n"
          ]
        }
      ]
    },
    {
      "cell_type": "code",
      "source": [
        "#Epoch: One run through all the training data in our network\n",
        "epochs = 100\n",
        "\n",
        "losses = []\n",
        "\n",
        "for i in range(1, epochs+1):\n",
        "  #Go forwards and get a prediction\n",
        "  y_pred = model.forward(X_train) #Get predicted results\n",
        "\n",
        "  #Measure the loss\n",
        "  loss = criterion(y_pred, Y_train)\n",
        "  losses.append(loss.detach().numpy()) #loss-tensor => numpy arr\n",
        "\n",
        "  #print for every 10 epoch\n",
        "  if i%10 == 0:\n",
        "    print(f'Epoch: {i} and loss: {round(loss.detach().numpy()*100, 2)}')\n",
        "\n",
        "  #Do backpropagation\n",
        "  optimizer.zero_grad()\n",
        "  loss.backward()\n",
        "  optimizer.step()\n"
      ],
      "metadata": {
        "colab": {
          "base_uri": "https://localhost:8080/"
        },
        "id": "IGhif2NKx57G",
        "outputId": "88c50a2d-2e1f-4e07-e737-b8175dc088fc"
      },
      "execution_count": 828,
      "outputs": [
        {
          "output_type": "stream",
          "name": "stdout",
          "text": [
            "Epoch: 10 and loss: 102.27\n",
            "Epoch: 20 and loss: 86.95\n",
            "Epoch: 30 and loss: 67.51\n",
            "Epoch: 40 and loss: 46.93\n",
            "Epoch: 50 and loss: 28.59\n",
            "Epoch: 60 and loss: 16.35\n",
            "Epoch: 70 and loss: 9.73\n",
            "Epoch: 80 and loss: 6.64\n",
            "Epoch: 90 and loss: 5.16\n",
            "Epoch: 100 and loss: 4.34\n"
          ]
        }
      ]
    },
    {
      "cell_type": "code",
      "source": [
        "plt.plot(range(epochs), losses)\n",
        "plt.ylabel('loss')\n",
        "plt.xlabel('epochs')"
      ],
      "metadata": {
        "colab": {
          "base_uri": "https://localhost:8080/",
          "height": 466
        },
        "id": "UgbiaXlhzTax",
        "outputId": "87805d11-899f-4c7b-942f-29a574df9cd6"
      },
      "execution_count": 829,
      "outputs": [
        {
          "output_type": "execute_result",
          "data": {
            "text/plain": [
              "Text(0.5, 0, 'epochs')"
            ]
          },
          "metadata": {},
          "execution_count": 829
        },
        {
          "output_type": "display_data",
          "data": {
            "text/plain": [
              "<Figure size 640x480 with 1 Axes>"
            ],
            "image/png": "[encoded data removed]"
          },
          "metadata": {}
        }
      ]
    },
    {
      "cell_type": "markdown",
      "source": [
        "**L7: Evaluate Test Data Set on Network**"
      ],
      "metadata": {
        "id": "0tMIOGKa0m0z"
      }
    },
    {
      "cell_type": "code",
      "source": [
        "with torch.no_grad(): #Turn off back prop\n",
        "  y_eval = model.forward(X_test)\n",
        "  loss = criterion(y_eval, Y_test)"
      ],
      "metadata": {
        "id": "Z2Gtn0_00Fl5"
      },
      "execution_count": 830,
      "outputs": []
    },
    {
      "cell_type": "code",
      "source": [
        "loss*100\n",
        "\n",
        "#Note that while training last loss encountered was 2.19% but here loss is 12.9% which is a huge difference"
      ],
      "metadata": {
        "colab": {
          "base_uri": "https://localhost:8080/"
        },
        "id": "FNEDmvjC1LwY",
        "outputId": "2473bfb7-d41e-472e-8214-15e8ca551635"
      },
      "execution_count": 831,
      "outputs": [
        {
          "output_type": "execute_result",
          "data": {
            "text/plain": [
              "tensor(12.9554)"
            ]
          },
          "metadata": {},
          "execution_count": 831
        }
      ]
    },
    {
      "cell_type": "code",
      "source": [
        "correct = 0\n",
        "\n",
        "res = []\n",
        "with torch.no_grad():\n",
        "  for i, data in enumerate(X_test):\n",
        "    y_val = model.forward(data)\n",
        "\n",
        "    #What type of flower the network is predicting\n",
        "    # print(f'{i+1} | {str(y_val)} \\t {Y_test[i]}')\n",
        "    res.append([i+1,\n",
        "                str(y_val),\n",
        "                Y_test[i],\n",
        "                y_val.argmax().item() == Y_test[i]])\n",
        "\n",
        "resdf = pd.DataFrame(res, columns = ['i', 'model prediction', 'predicted flower', 'Status'])\n",
        "\n",
        "resdf"
      ],
      "metadata": {
        "colab": {
          "base_uri": "https://localhost:8080/",
          "height": 990
        },
        "id": "cnQlg04y1MnA",
        "outputId": "3e070d72-3833-4cf5-d4ec-898435308f44"
      },
      "execution_count": 832,
      "outputs": [
        {
          "output_type": "execute_result",
          "data": {
            "text/plain": [
              "     i                     model prediction predicted flower         Status\n",
              "0    1     tensor([0.0000, 7.4818, 9.9517])        tensor(2)   tensor(True)\n",
              "1    2  tensor([ 0.0000,  7.7416, 14.4150])        tensor(2)   tensor(True)\n",
              "2    3  tensor([ 0.0000,  9.1741, 15.2260])        tensor(2)   tensor(True)\n",
              "3    4     tensor([0.2420, 8.3711, 4.5725])        tensor(1)   tensor(True)\n",
              "4    5  tensor([ 0.0000,  8.4455, 12.5213])        tensor(2)   tensor(True)\n",
              "5    6     tensor([1.6580, 8.0895, 2.0248])        tensor(1)   tensor(True)\n",
              "6    7     tensor([0.0000, 8.1067, 9.3146])        tensor(2)   tensor(True)\n",
              "7    8     tensor([0.3616, 8.4538, 4.3424])        tensor(1)   tensor(True)\n",
              "8    9  tensor([ 0.0000,  8.2779, 10.8831])        tensor(2)   tensor(True)\n",
              "9   10  tensor([ 0.0000,  8.2340, 15.2944])        tensor(2)   tensor(True)\n",
              "10  11     tensor([0.0000, 8.0207, 8.7722])        tensor(2)   tensor(True)\n",
              "11  12     tensor([9.0044, 3.5022, 0.0000])        tensor(0)   tensor(True)\n",
              "12  13     tensor([8.0835, 3.2078, 0.0000])        tensor(0)   tensor(True)\n",
              "13  14     tensor([2.2655, 6.5108, 0.4715])        tensor(1)   tensor(True)\n",
              "14  15     tensor([8.0545, 3.9531, 0.0000])        tensor(0)   tensor(True)\n",
              "15  16     tensor([0.0000, 8.1667, 8.0483])        tensor(2)  tensor(False)\n",
              "16  17     tensor([8.3930, 3.3382, 0.0000])        tensor(0)   tensor(True)\n",
              "17  18     tensor([0.0000, 7.6729, 9.5912])        tensor(1)  tensor(False)\n",
              "18  19     tensor([8.6390, 3.3854, 0.0000])        tensor(0)   tensor(True)\n",
              "19  20     tensor([7.5293, 3.3366, 0.0000])        tensor(0)   tensor(True)\n",
              "20  21     tensor([2.0055, 7.1311, 1.1164])        tensor(1)   tensor(True)\n",
              "21  22  tensor([ 0.0000,  8.4883, 14.0726])        tensor(2)   tensor(True)\n",
              "22  23     tensor([8.1567, 3.8903, 0.0000])        tensor(0)   tensor(True)\n",
              "23  24     tensor([8.5490, 3.3566, 0.0000])        tensor(0)   tensor(True)\n",
              "24  25     tensor([2.2127, 7.3726, 0.9854])        tensor(1)   tensor(True)\n",
              "25  26     tensor([1.5474, 7.7927, 2.0080])        tensor(1)   tensor(True)\n",
              "26  27     tensor([0.0904, 8.6654, 5.1097])        tensor(1)   tensor(True)\n",
              "27  28     tensor([1.8128, 7.5533, 1.5818])        tensor(1)   tensor(True)\n",
              "28  29     tensor([8.8967, 3.4678, 0.0000])        tensor(0)   tensor(True)\n",
              "29  30     tensor([0.0000, 8.2507, 5.3960])        tensor(1)   tensor(True)"
            ],
            "text/html": [
              "\n",
              "  <div id=\"df-fee46f6e-bf87-432d-b986-cda8c544c3e2\" class=\"colab-df-container\">\n",
              "    <div>\n",
              "<style scoped>\n",
              "    .dataframe tbody tr th:only-of-type {\n",
              "        vertical-align: middle;\n",
              "    }\n",
              "\n",
              "    .dataframe tbody tr th {\n",
              "        vertical-align: top;\n",
              "    }\n",
              "\n",
              "    .dataframe thead th {\n",
              "        text-align: right;\n",
              "    }\n",
              "</style>\n",
              "<table border=\"1\" class=\"dataframe\">\n",
              "  <thead>\n",
              "    <tr style=\"text-align: right;\">\n",
              "      <th></th>\n",
              "      <th>i</th>\n",
              "      <th>model prediction</th>\n",
              "      <th>predicted flower</th>\n",
              "      <th>Status</th>\n",
              "    </tr>\n",
              "  </thead>\n",
              "  <tbody>\n",
              "    <tr>\n",
              "      <th>0</th>\n",
              "      <td>1</td>\n",
              "      <td>tensor([0.0000, 7.4818, 9.9517])</td>\n",
              "      <td>tensor(2)</td>\n",
              "      <td>tensor(True)</td>\n",
              "    </tr>\n",
              "    <tr>\n",
              "      <th>1</th>\n",
              "      <td>2</td>\n",
              "      <td>tensor([ 0.0000,  7.7416, 14.4150])</td>\n",
              "      <td>tensor(2)</td>\n",
              "      <td>tensor(True)</td>\n",
              "    </tr>\n",
              "    <tr>\n",
              "      <th>2</th>\n",
              "      <td>3</td>\n",
              "      <td>tensor([ 0.0000,  9.1741, 15.2260])</td>\n",
              "      <td>tensor(2)</td>\n",
              "      <td>tensor(True)</td>\n",
              "    </tr>\n",
              "    <tr>\n",
              "      <th>3</th>\n",
              "      <td>4</td>\n",
              "      <td>tensor([0.2420, 8.3711, 4.5725])</td>\n",
              "      <td>tensor(1)</td>\n",
              "      <td>tensor(True)</td>\n",
              "    </tr>\n",
              "    <tr>\n",
              "      <th>4</th>\n",
              "      <td>5</td>\n",
              "      <td>tensor([ 0.0000,  8.4455, 12.5213])</td>\n",
              "      <td>tensor(2)</td>\n",
              "      <td>tensor(True)</td>\n",
              "    </tr>\n",
              "    <tr>\n",
              "      <th>5</th>\n",
              "      <td>6</td>\n",
              "      <td>tensor([1.6580, 8.0895, 2.0248])</td>\n",
              "      <td>tensor(1)</td>\n",
              "      <td>tensor(True)</td>\n",
              "    </tr>\n",
              "    <tr>\n",
              "      <th>6</th>\n",
              "      <td>7</td>\n",
              "      <td>tensor([0.0000, 8.1067, 9.3146])</td>\n",
              "      <td>tensor(2)</td>\n",
              "      <td>tensor(True)</td>\n",
              "    </tr>\n",
              "    <tr>\n",
              "      <th>7</th>\n",
              "      <td>8</td>\n",
              "      <td>tensor([0.3616, 8.4538, 4.3424])</td>\n",
              "      <td>tensor(1)</td>\n",
              "      <td>tensor(True)</td>\n",
              "    </tr>\n",
              "    <tr>\n",
              "      <th>8</th>\n",
              "      <td>9</td>\n",
              "      <td>tensor([ 0.0000,  8.2779, 10.8831])</td>\n",
              "      <td>tensor(2)</td>\n",
              "      <td>tensor(True)</td>\n",
              "    </tr>\n",
              "    <tr>\n",
              "      <th>9</th>\n",
              "      <td>10</td>\n",
              "      <td>tensor([ 0.0000,  8.2340, 15.2944])</td>\n",
              "      <td>tensor(2)</td>\n",
              "      <td>tensor(True)</td>\n",
              "    </tr>\n",
              "    <tr>\n",
              "      <th>10</th>\n",
              "      <td>11</td>\n",
              "      <td>tensor([0.0000, 8.0207, 8.7722])</td>\n",
              "      <td>tensor(2)</td>\n",
              "      <td>tensor(True)</td>\n",
              "    </tr>\n",
              "    <tr>\n",
              "      <th>11</th>\n",
              "      <td>12</td>\n",
              "      <td>tensor([9.0044, 3.5022, 0.0000])</td>\n",
              "      <td>tensor(0)</td>\n",
              "      <td>tensor(True)</td>\n",
              "    </tr>\n",
              "    <tr>\n",
              "      <th>12</th>\n",
              "      <td>13</td>\n",
              "      <td>tensor([8.0835, 3.2078, 0.0000])</td>\n",
              "      <td>tensor(0)</td>\n",
              "      <td>tensor(True)</td>\n",
              "    </tr>\n",
              "    <tr>\n",
              "      <th>13</th>\n",
              "      <td>14</td>\n",
              "      <td>tensor([2.2655, 6.5108, 0.4715])</td>\n",
              "      <td>tensor(1)</td>\n",
              "      <td>tensor(True)</td>\n",
              "    </tr>\n",
              "    <tr>\n",
              "      <th>14</th>\n",
              "      <td>15</td>\n",
              "      <td>tensor([8.0545, 3.9531, 0.0000])</td>\n",
              "      <td>tensor(0)</td>\n",
              "      <td>tensor(True)</td>\n",
              "    </tr>\n",
              "    <tr>\n",
              "      <th>15</th>\n",
              "      <td>16</td>\n",
              "      <td>tensor([0.0000, 8.1667, 8.0483])</td>\n",
              "      <td>tensor(2)</td>\n",
              "      <td>tensor(False)</td>\n",
              "    </tr>\n",
              "    <tr>\n",
              "      <th>16</th>\n",
              "      <td>17</td>\n",
              "      <td>tensor([8.3930, 3.3382, 0.0000])</td>\n",
              "      <td>tensor(0)</td>\n",
              "      <td>tensor(True)</td>\n",
              "    </tr>\n",
              "    <tr>\n",
              "      <th>17</th>\n",
              "      <td>18</td>\n",
              "      <td>tensor([0.0000, 7.6729, 9.5912])</td>\n",
              "      <td>tensor(1)</td>\n",
              "      <td>tensor(False)</td>\n",
              "    </tr>\n",
              "    <tr>\n",
              "      <th>18</th>\n",
              "      <td>19</td>\n",
              "      <td>tensor([8.6390, 3.3854, 0.0000])</td>\n",
              "      <td>tensor(0)</td>\n",
              "      <td>tensor(True)</td>\n",
              "    </tr>\n",
              "    <tr>\n",
              "      <th>19</th>\n",
              "      <td>20</td>\n",
              "      <td>tensor([7.5293, 3.3366, 0.0000])</td>\n",
              "      <td>tensor(0)</td>\n",
              "      <td>tensor(True)</td>\n",
              "    </tr>\n",
              "    <tr>\n",
              "      <th>20</th>\n",
              "      <td>21</td>\n",
              "      <td>tensor([2.0055, 7.1311, 1.1164])</td>\n",
              "      <td>tensor(1)</td>\n",
              "      <td>tensor(True)</td>\n",
              "    </tr>\n",
              "    <tr>\n",
              "      <th>21</th>\n",
              "      <td>22</td>\n",
              "      <td>tensor([ 0.0000,  8.4883, 14.0726])</td>\n",
              "      <td>tensor(2)</td>\n",
              "      <td>tensor(True)</td>\n",
              "    </tr>\n",
              "    <tr>\n",
              "      <th>22</th>\n",
              "      <td>23</td>\n",
              "      <td>tensor([8.1567, 3.8903, 0.0000])</td>\n",
              "      <td>tensor(0)</td>\n",
              "      <td>tensor(True)</td>\n",
              "    </tr>\n",
              "    <tr>\n",
              "      <th>23</th>\n",
              "      <td>24</td>\n",
              "      <td>tensor([8.5490, 3.3566, 0.0000])</td>\n",
              "      <td>tensor(0)</td>\n",
              "      <td>tensor(True)</td>\n",
              "    </tr>\n",
              "    <tr>\n",
              "      <th>24</th>\n",
              "      <td>25</td>\n",
              "      <td>tensor([2.2127, 7.3726, 0.9854])</td>\n",
              "      <td>tensor(1)</td>\n",
              "      <td>tensor(True)</td>\n",
              "    </tr>\n",
              "    <tr>\n",
              "      <th>25</th>\n",
              "      <td>26</td>\n",
              "      <td>tensor([1.5474, 7.7927, 2.0080])</td>\n",
              "      <td>tensor(1)</td>\n",
              "      <td>tensor(True)</td>\n",
              "    </tr>\n",
              "    <tr>\n",
              "      <th>26</th>\n",
              "      <td>27</td>\n",
              "      <td>tensor([0.0904, 8.6654, 5.1097])</td>\n",
              "      <td>tensor(1)</td>\n",
              "      <td>tensor(True)</td>\n",
              "    </tr>\n",
              "    <tr>\n",
              "      <th>27</th>\n",
              "      <td>28</td>\n",
              "      <td>tensor([1.8128, 7.5533, 1.5818])</td>\n",
              "      <td>tensor(1)</td>\n",
              "      <td>tensor(True)</td>\n",
              "    </tr>\n",
              "    <tr>\n",
              "      <th>28</th>\n",
              "      <td>29</td>\n",
              "      <td>tensor([8.8967, 3.4678, 0.0000])</td>\n",
              "      <td>tensor(0)</td>\n",
              "      <td>tensor(True)</td>\n",
              "    </tr>\n",
              "    <tr>\n",
              "      <th>29</th>\n",
              "      <td>30</td>\n",
              "      <td>tensor([0.0000, 8.2507, 5.3960])</td>\n",
              "      <td>tensor(1)</td>\n",
              "      <td>tensor(True)</td>\n",
              "    </tr>\n",
              "  </tbody>\n",
              "</table>\n",
              "</div>\n",
              "    <div class=\"colab-df-buttons\">\n",
              "\n",
              "  <div class=\"colab-df-container\">\n",
              "    <button class=\"colab-df-convert\" onclick=\"convertToInteractive('df-fee46f6e-bf87-432d-b986-cda8c544c3e2')\"\n",
              "            title=\"Convert this dataframe to an interactive table.\"\n",
              "            style=\"display:none;\">\n",
              "\n",
              "  <svg xmlns=\"http://www.w3.org/2000/svg\" height=\"24px\" viewBox=\"0 -960 960 960\">\n",
              "    <path d=\"M120-120v-720h720v720H120Zm60-500h600v-160H180v160Zm220 220h160v-160H400v160Zm0 220h160v-160H400v160ZM180-400h160v-160H180v160Zm440 0h160v-160H620v160ZM180-180h160v-160H180v160Zm440 0h160v-160H620v160Z\"/>\n",
              "  </svg>\n",
              "    </button>\n",
              "\n",
              "  <style>\n",
              "    .colab-df-container {\n",
              "      display:flex;\n",
              "      gap: 12px;\n",
              "    }\n",
              "\n",
              "    .colab-df-convert {\n",
              "      background-color: #E8F0FE;\n",
              "      border: none;\n",
              "      border-radius: 50%;\n",
              "      cursor: pointer;\n",
              "      display: none;\n",
              "      fill: #1967D2;\n",
              "      height: 32px;\n",
              "      padding: 0 0 0 0;\n",
              "      width: 32px;\n",
              "    }\n",
              "\n",
              "    .colab-df-convert:hover {\n",
              "      background-color: #E2EBFA;\n",
              "      box-shadow: 0px 1px 2px rgba(60, 64, 67, 0.3), 0px 1px 3px 1px rgba(60, 64, 67, 0.15);\n",
              "      fill: #174EA6;\n",
              "    }\n",
              "\n",
              "    .colab-df-buttons div {\n",
              "      margin-bottom: 4px;\n",
              "    }\n",
              "\n",
              "    [theme=dark] .colab-df-convert {\n",
              "      background-color: #3B4455;\n",
              "      fill: #D2E3FC;\n",
              "    }\n",
              "\n",
              "    [theme=dark] .colab-df-convert:hover {\n",
              "      background-color: #434B5C;\n",
              "      box-shadow: 0px 1px 3px 1px rgba(0, 0, 0, 0.15);\n",
              "      filter: drop-shadow(0px 1px 2px rgba(0, 0, 0, 0.3));\n",
              "      fill: #FFFFFF;\n",
              "    }\n",
              "  </style>\n",
              "\n",
              "    <script>\n",
              "      const buttonEl =\n",
              "        document.querySelector('#df-fee46f6e-bf87-432d-b986-cda8c544c3e2 button.colab-df-convert');\n",
              "      buttonEl.style.display =\n",
              "        google.colab.kernel.accessAllowed ? 'block' : 'none';\n",
              "\n",
              "      async function convertToInteractive(key) {\n",
              "        const element = document.querySelector('#df-fee46f6e-bf87-432d-b986-cda8c544c3e2');\n",
              "        const dataTable =\n",
              "          await google.colab.kernel.invokeFunction('convertToInteractive',\n",
              "                                                    [key], {});\n",
              "        if (!dataTable) return;\n",
              "\n",
              "        const docLinkHtml = 'Like what you see? Visit the ' +\n",
              "          '<a target=\"_blank\" href=https://colab.research.google.com/notebooks/data_table.ipynb>data table notebook</a>'\n",
              "          + ' to learn more about interactive tables.';\n",
              "        element.innerHTML = '';\n",
              "        dataTable['output_type'] = 'display_data';\n",
              "        await google.colab.output.renderOutput(dataTable, element);\n",
              "        const docLink = document.createElement('div');\n",
              "        docLink.innerHTML = docLinkHtml;\n",
              "        element.appendChild(docLink);\n",
              "      }\n",
              "    </script>\n",
              "  </div>\n",
              "\n",
              "\n",
              "<div id=\"df-250e3d95-6ab6-45ff-bce5-60767e8905d4\">\n",
              "  <button class=\"colab-df-quickchart\" onclick=\"quickchart('df-250e3d95-6ab6-45ff-bce5-60767e8905d4')\"\n",
              "            title=\"Suggest charts\"\n",
              "            style=\"display:none;\">\n",
              "\n",
              "<svg xmlns=\"http://www.w3.org/2000/svg\" height=\"24px\"viewBox=\"0 0 24 24\"\n",
              "     width=\"24px\">\n",
              "    <g>\n",
              "        <path d=\"M19 3H5c-1.1 0-2 .9-2 2v14c0 1.1.9 2 2 2h14c1.1 0 2-.9 2-2V5c0-1.1-.9-2-2-2zM9 17H7v-7h2v7zm4 0h-2V7h2v10zm4 0h-2v-4h2v4z\"/>\n",
              "    </g>\n",
              "</svg>\n",
              "  </button>\n",
              "\n",
              "<style>\n",
              "  .colab-df-quickchart {\n",
              "      --bg-color: #E8F0FE;\n",
              "      --fill-color: #1967D2;\n",
              "      --hover-bg-color: #E2EBFA;\n",
              "      --hover-fill-color: #174EA6;\n",
              "      --disabled-fill-color: #AAA;\n",
              "      --disabled-bg-color: #DDD;\n",
              "  }\n",
              "\n",
              "  [theme=dark] .colab-df-quickchart {\n",
              "      --bg-color: #3B4455;\n",
              "      --fill-color: #D2E3FC;\n",
              "      --hover-bg-color: #434B5C;\n",
              "      --hover-fill-color: #FFFFFF;\n",
              "      --disabled-bg-color: #3B4455;\n",
              "      --disabled-fill-color: #666;\n",
              "  }\n",
              "\n",
              "  .colab-df-quickchart {\n",
              "    background-color: var(--bg-color);\n",
              "    border: none;\n",
              "    border-radius: 50%;\n",
              "    cursor: pointer;\n",
              "    display: none;\n",
              "    fill: var(--fill-color);\n",
              "    height: 32px;\n",
              "    padding: 0;\n",
              "    width: 32px;\n",
              "  }\n",
              "\n",
              "  .colab-df-quickchart:hover {\n",
              "    background-color: var(--hover-bg-color);\n",
              "    box-shadow: 0 1px 2px rgba(60, 64, 67, 0.3), 0 1px 3px 1px rgba(60, 64, 67, 0.15);\n",
              "    fill: var(--button-hover-fill-color);\n",
              "  }\n",
              "\n",
              "  .colab-df-quickchart-complete:disabled,\n",
              "  .colab-df-quickchart-complete:disabled:hover {\n",
              "    background-color: var(--disabled-bg-color);\n",
              "    fill: var(--disabled-fill-color);\n",
              "    box-shadow: none;\n",
              "  }\n",
              "\n",
              "  .colab-df-spinner {\n",
              "    border: 2px solid var(--fill-color);\n",
              "    border-color: transparent;\n",
              "    border-bottom-color: var(--fill-color);\n",
              "    animation:\n",
              "      spin 1s steps(1) infinite;\n",
              "  }\n",
              "\n",
              "  @keyframes spin {\n",
              "    0% {\n",
              "      border-color: transparent;\n",
              "      border-bottom-color: var(--fill-color);\n",
              "      border-left-color: var(--fill-color);\n",
              "    }\n",
              "    20% {\n",
              "      border-color: transparent;\n",
              "      border-left-color: var(--fill-color);\n",
              "      border-top-color: var(--fill-color);\n",
              "    }\n",
              "    30% {\n",
              "      border-color: transparent;\n",
              "      border-left-color: var(--fill-color);\n",
              "      border-top-color: var(--fill-color);\n",
              "      border-right-color: var(--fill-color);\n",
              "    }\n",
              "    40% {\n",
              "      border-color: transparent;\n",
              "      border-right-color: var(--fill-color);\n",
              "      border-top-color: var(--fill-color);\n",
              "    }\n",
              "    60% {\n",
              "      border-color: transparent;\n",
              "      border-right-color: var(--fill-color);\n",
              "    }\n",
              "    80% {\n",
              "      border-color: transparent;\n",
              "      border-right-color: var(--fill-color);\n",
              "      border-bottom-color: var(--fill-color);\n",
              "    }\n",
              "    90% {\n",
              "      border-color: transparent;\n",
              "      border-bottom-color: var(--fill-color);\n",
              "    }\n",
              "  }\n",
              "</style>\n",
              "\n",
              "  <script>\n",
              "    async function quickchart(key) {\n",
              "      const quickchartButtonEl =\n",
              "        document.querySelector('#' + key + ' button');\n",
              "      quickchartButtonEl.disabled = true;  // To prevent multiple clicks.\n",
              "      quickchartButtonEl.classList.add('colab-df-spinner');\n",
              "      try {\n",
              "        const charts = await google.colab.kernel.invokeFunction(\n",
              "            'suggestCharts', [key], {});\n",
              "      } catch (error) {\n",
              "        console.error('Error during call to suggestCharts:', error);\n",
              "      }\n",
              "      quickchartButtonEl.classList.remove('colab-df-spinner');\n",
              "      quickchartButtonEl.classList.add('colab-df-quickchart-complete');\n",
              "    }\n",
              "    (() => {\n",
              "      let quickchartButtonEl =\n",
              "        document.querySelector('#df-250e3d95-6ab6-45ff-bce5-60767e8905d4 button');\n",
              "      quickchartButtonEl.style.display =\n",
              "        google.colab.kernel.accessAllowed ? 'block' : 'none';\n",
              "    })();\n",
              "  </script>\n",
              "</div>\n",
              "\n",
              "  <div id=\"id_28f54874-5c3a-4d36-9eaa-fd7ddbd9204f\">\n",
              "    <style>\n",
              "      .colab-df-generate {\n",
              "        background-color: #E8F0FE;\n",
              "        border: none;\n",
              "        border-radius: 50%;\n",
              "        cursor: pointer;\n",
              "        display: none;\n",
              "        fill: #1967D2;\n",
              "        height: 32px;\n",
              "        padding: 0 0 0 0;\n",
              "        width: 32px;\n",
              "      }\n",
              "\n",
              "      .colab-df-generate:hover {\n",
              "        background-color: #E2EBFA;\n",
              "        box-shadow: 0px 1px 2px rgba(60, 64, 67, 0.3), 0px 1px 3px 1px rgba(60, 64, 67, 0.15);\n",
              "        fill: #174EA6;\n",
              "      }\n",
              "\n",
              "      [theme=dark] .colab-df-generate {\n",
              "        background-color: #3B4455;\n",
              "        fill: #D2E3FC;\n",
              "      }\n",
              "\n",
              "      [theme=dark] .colab-df-generate:hover {\n",
              "        background-color: #434B5C;\n",
              "        box-shadow: 0px 1px 3px 1px rgba(0, 0, 0, 0.15);\n",
              "        filter: drop-shadow(0px 1px 2px rgba(0, 0, 0, 0.3));\n",
              "        fill: #FFFFFF;\n",
              "      }\n",
              "    </style>\n",
              "    <button class=\"colab-df-generate\" onclick=\"generateWithVariable('resdf')\"\n",
              "            title=\"Generate code using this dataframe.\"\n",
              "            style=\"display:none;\">\n",
              "\n",
              "  <svg xmlns=\"http://www.w3.org/2000/svg\" height=\"24px\"viewBox=\"0 0 24 24\"\n",
              "       width=\"24px\">\n",
              "    <path d=\"M7,19H8.4L18.45,9,17,7.55,7,17.6ZM5,21V16.75L18.45,3.32a2,2,0,0,1,2.83,0l1.4,1.43a1.91,1.91,0,0,1,.58,1.4,1.91,1.91,0,0,1-.58,1.4L9.25,21ZM18.45,9,17,7.55Zm-12,3A5.31,5.31,0,0,0,4.9,8.1,5.31,5.31,0,0,0,1,6.5,5.31,5.31,0,0,0,4.9,4.9,5.31,5.31,0,0,0,6.5,1,5.31,5.31,0,0,0,8.1,4.9,5.31,5.31,0,0,0,12,6.5,5.46,5.46,0,0,0,6.5,12Z\"/>\n",
              "  </svg>\n",
              "    </button>\n",
              "    <script>\n",
              "      (() => {\n",
              "      const buttonEl =\n",
              "        document.querySelector('#id_28f54874-5c3a-4d36-9eaa-fd7ddbd9204f button.colab-df-generate');\n",
              "      buttonEl.style.display =\n",
              "        google.colab.kernel.accessAllowed ? 'block' : 'none';\n",
              "\n",
              "      buttonEl.onclick = () => {\n",
              "        google.colab.notebook.generateWithVariable('resdf');\n",
              "      }\n",
              "      })();\n",
              "    </script>\n",
              "  </div>\n",
              "\n",
              "    </div>\n",
              "  </div>\n"
            ],
            "application/vnd.google.colaboratory.intrinsic+json": {
              "type": "dataframe",
              "variable_name": "resdf",
              "summary": "{\n  \"name\": \"resdf\",\n  \"rows\": 30,\n  \"fields\": [\n    {\n      \"column\": \"i\",\n      \"properties\": {\n        \"dtype\": \"number\",\n        \"std\": 8,\n        \"min\": 1,\n        \"max\": 30,\n        \"num_unique_values\": 30,\n        \"samples\": [\n          28,\n          16,\n          24\n        ],\n        \"semantic_type\": \"\",\n        \"description\": \"\"\n      }\n    },\n    {\n      \"column\": \"model prediction\",\n      \"properties\": {\n        \"dtype\": \"string\",\n        \"num_unique_values\": 30,\n        \"samples\": [\n          \"tensor([1.8128, 7.5533, 1.5818])\",\n          \"tensor([0.0000, 8.1667, 8.0483])\",\n          \"tensor([8.5490, 3.3566, 0.0000])\"\n        ],\n        \"semantic_type\": \"\",\n        \"description\": \"\"\n      }\n    },\n    {\n      \"column\": \"predicted flower\",\n      \"properties\": {\n        \"dtype\": \"string\",\n        \"num_unique_values\": 19,\n        \"samples\": [\n          \"tensor(2)\",\n          \"tensor(1)\",\n          \"tensor(0)\"\n        ],\n        \"semantic_type\": \"\",\n        \"description\": \"\"\n      }\n    },\n    {\n      \"column\": \"Status\",\n      \"properties\": {\n        \"dtype\": \"category\",\n        \"num_unique_values\": 6,\n        \"samples\": [\n          \"tensor(True)\",\n          \"tensor(True)\",\n          \"tensor(True)\"\n        ],\n        \"semantic_type\": \"\",\n        \"description\": \"\"\n      }\n    }\n  ]\n}"
            }
          },
          "metadata": {},
          "execution_count": 832
        }
      ]
    },
    {
      "cell_type": "code",
      "source": [
        "resdf.Status.value_counts()"
      ],
      "metadata": {
        "colab": {
          "base_uri": "https://localhost:8080/",
          "height": 178
        },
        "id": "LHhFmac32NyO",
        "outputId": "0d84ecea-0f4c-4aa0-dae8-b8afc956b55a"
      },
      "execution_count": 833,
      "outputs": [
        {
          "output_type": "execute_result",
          "data": {
            "text/plain": [
              "Status\n",
              "tensor(True)     28\n",
              "tensor(False)     2\n",
              "Name: count, dtype: int64"
            ],
            "text/html": [
              "<div>\n",
              "<style scoped>\n",
              "    .dataframe tbody tr th:only-of-type {\n",
              "        vertical-align: middle;\n",
              "    }\n",
              "\n",
              "    .dataframe tbody tr th {\n",
              "        vertical-align: top;\n",
              "    }\n",
              "\n",
              "    .dataframe thead th {\n",
              "        text-align: right;\n",
              "    }\n",
              "</style>\n",
              "<table border=\"1\" class=\"dataframe\">\n",
              "  <thead>\n",
              "    <tr style=\"text-align: right;\">\n",
              "      <th></th>\n",
              "      <th>count</th>\n",
              "    </tr>\n",
              "    <tr>\n",
              "      <th>Status</th>\n",
              "      <th></th>\n",
              "    </tr>\n",
              "  </thead>\n",
              "  <tbody>\n",
              "    <tr>\n",
              "      <th>tensor(True)</th>\n",
              "      <td>28</td>\n",
              "    </tr>\n",
              "    <tr>\n",
              "      <th>tensor(False)</th>\n",
              "      <td>2</td>\n",
              "    </tr>\n",
              "  </tbody>\n",
              "</table>\n",
              "</div><br><label><b>dtype:</b> int64</label>"
            ]
          },
          "metadata": {},
          "execution_count": 833
        }
      ]
    },
    {
      "cell_type": "markdown",
      "source": [
        "**L8: Feed New Data to make predictions**"
      ],
      "metadata": {
        "id": "fzYf-8HH4oS1"
      }
    },
    {
      "cell_type": "code",
      "source": [
        "new_iris = torch.tensor([4.7, 3.2, 1.3, 0.2])"
      ],
      "metadata": {
        "id": "5-uMDiM34QbE"
      },
      "execution_count": 834,
      "outputs": []
    },
    {
      "cell_type": "code",
      "source": [
        "with torch.no_grad():\n",
        "  print(model.forward(new_iris))\n",
        "  print(model.forward(new_iris).argmax().item())"
      ],
      "metadata": {
        "colab": {
          "base_uri": "https://localhost:8080/"
        },
        "id": "F_AaYITY5Hpq",
        "outputId": "7de527d7-1966-4521-b9c8-7f61769f9990"
      },
      "execution_count": 835,
      "outputs": [
        {
          "output_type": "stream",
          "name": "stdout",
          "text": [
            "tensor([8.5490, 3.3566, 0.0000])\n",
            "0\n"
          ]
        }
      ]
    },
    {
      "cell_type": "markdown",
      "source": [
        "**L9: Save and Load nn model**"
      ],
      "metadata": {
        "id": "NO9lMXMh5gNl"
      }
    },
    {
      "cell_type": "code",
      "source": [
        "torch.save(model.state_dict(), 'iris_model.pt')\n",
        "\n",
        "#This dictionary stores all the weights and biases of the trained model\n",
        "#Models are stored in .pt file"
      ],
      "metadata": {
        "id": "NV93tMhm5Q16"
      },
      "execution_count": 836,
      "outputs": []
    },
    {
      "cell_type": "code",
      "source": [
        "##Loading a model\n",
        "\n",
        "new_model = Model()\n",
        "new_model.load_state_dict(torch.load('iris_model.pt'))"
      ],
      "metadata": {
        "colab": {
          "base_uri": "https://localhost:8080/"
        },
        "id": "TlT-0aGH5-D6",
        "outputId": "28bda17c-b32c-4c00-9b14-fa7f22e62348"
      },
      "execution_count": 837,
      "outputs": [
        {
          "output_type": "stream",
          "name": "stderr",
          "text": [
            "<ipython-input-837-513a6358dcdb>:4: FutureWarning: You are using `torch.load` with `weights_only=False` (the current default value), which uses the default pickle module implicitly. It is possible to construct malicious pickle data which will execute arbitrary code during unpickling (See https://github.com/pytorch/pytorch/blob/main/SECURITY.md#untrusted-models for more details). In a future release, the default value for `weights_only` will be flipped to `True`. This limits the functions that could be executed during unpickling. Arbitrary objects will no longer be allowed to be loaded via this mode unless they are explicitly allowlisted by the user via `torch.serialization.add_safe_globals`. We recommend you start setting `weights_only=True` for any use case where you don't have full control of the loaded file. Please open an issue on GitHub for any issues related to this experimental feature.\n",
            "  new_model.load_state_dict(torch.load('iris_model.pt'))\n"
          ]
        },
        {
          "output_type": "execute_result",
          "data": {
            "text/plain": [
              "<All keys matched successfully>"
            ]
          },
          "metadata": {},
          "execution_count": 837
        }
      ]
    },
    {
      "cell_type": "code",
      "source": [
        "new_model.eval()"
      ],
      "metadata": {
        "colab": {
          "base_uri": "https://localhost:8080/"
        },
        "id": "4s5OYBK-6F8a",
        "outputId": "b021175e-16c3-4235-bab7-34163f4ad981"
      },
      "execution_count": 838,
      "outputs": [
        {
          "output_type": "execute_result",
          "data": {
            "text/plain": [
              "Model(\n",
              "  (fc1): Linear(in_features=4, out_features=8, bias=True)\n",
              "  (fc2): Linear(in_features=8, out_features=9, bias=True)\n",
              "  (out): Linear(in_features=9, out_features=3, bias=True)\n",
              ")"
            ]
          },
          "metadata": {},
          "execution_count": 838
        }
      ]
    }
  ]
}